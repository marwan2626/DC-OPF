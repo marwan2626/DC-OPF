{
 "cells": [
  {
   "cell_type": "code",
   "execution_count": 2,
   "metadata": {},
   "outputs": [
    {
     "name": "stdout",
     "output_type": "stream",
     "text": [
      "   name  bus  p_mw  q_mvar  sn_mva  scaling  in_service type  current_source  \\\n",
      "0  None   11   0.0     0.0     NaN      1.0        True   pv            True   \n",
      "1  None   15   0.0     0.0     NaN      1.0        True   pv            True   \n",
      "2  None   16   0.0     0.0     NaN      1.0        True   pv            True   \n",
      "3  None   17   0.0     0.0     NaN      1.0        True   pv            True   \n",
      "4  None   18   0.0     0.0     NaN      1.0        True   pv            True   \n",
      "\n",
      "   controllable  min_p_mw  max_p_mw  min_q_mvar  max_q_mvar  \n",
      "0          True       0.0  0.170998     -0.0005      0.0005  \n",
      "1          True       0.0  0.170998     -0.0005      0.0005  \n",
      "2          True       0.0  0.170998     -0.0005      0.0005  \n",
      "3          True       0.0  0.170998     -0.0005      0.0005  \n",
      "4          True       0.0  0.170998     -0.0005      0.0005  \n"
     ]
    }
   ],
   "source": [
    "\"\"\"\n",
    "Code for the publication Exploiting Flexibility in Multi-Energy Systems\n",
    "through Distributionally Robust Chance-Constrained\n",
    "Optimization by Marwan Mostafa \n",
    "\n",
    "Main File\n",
    "\"\"\"\n",
    "###############################################################################\n",
    "## IMPORT PACKAGES & SCRIPTS ## \n",
    "###############################################################################\n",
    "#### SCRIPTS ####\n",
    "import data as dt\n",
    "import griddata as gd \n",
    "import results as rs\n",
    "import plot as pl\n",
    "import opf as opf\n",
    "\n",
    "net, df_pv, df, pv_generators, const_load, const_pv  = gd.setup_grid()\n",
    "\n",
    "print(net.sgen)"
   ]
  }
 ],
 "metadata": {
  "kernelspec": {
   "display_name": "Pandapipes",
   "language": "python",
   "name": "python3"
  },
  "language_info": {
   "codemirror_mode": {
    "name": "ipython",
    "version": 3
   },
   "file_extension": ".py",
   "mimetype": "text/x-python",
   "name": "python",
   "nbconvert_exporter": "python",
   "pygments_lexer": "ipython3",
   "version": "3.8.19"
  }
 },
 "nbformat": 4,
 "nbformat_minor": 2
}
